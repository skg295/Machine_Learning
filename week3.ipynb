{
 "cells": [
  {
   "cell_type": "code",
   "execution_count": null,
   "id": "initial_id",
   "metadata": {
    "collapsed": true,
    "is_executing": true,
    "ExecuteTime": {
     "start_time": "2024-02-18T00:43:46.652405900Z"
    }
   },
   "outputs": [
    {
     "name": "stdout",
     "output_type": "stream",
     "text": [
      "Number of Rows: 494020\n"
     ]
    }
   ],
   "source": [
    "import pandas\n",
    "import sklearn\n",
    "import os \n",
    "from sklearn.model_selection import train_test_split\n",
    "from sklearn.linear_model import LogisticRegression\n",
    "from sklearn.preprocessing import StandardScaler\n",
    "from sklearn.metrics import classification_report, accuracy_score\n",
    "\n",
    "os.chdir('../../../../..')\n",
    "os.chdir('/Users/shrin/Documents')\n",
    "data = pd.read_csv('kddcup.data_10_percent_corrected')\n",
    "\n",
    "# Display the number of rows and columns\n",
    "num_rows, num_columns = data.shape\n",
    "\n",
    "# Print the number of rows\n",
    "print(\"Number of Rows:\", num_rows)\n",
    "\n",
    "# Set offsets for the fields I am interested in\n",
    "label_column_offset = 41\n",
    "last_column_offset = -1 \n",
    "\n",
    "# Features\n",
    "X = data.iloc[:, :label_column_offset]  # Use offsets for features\n",
    "# Labels\n",
    "y = data.iloc[:, label_column_offset]  # Use offset for labels\n",
    "\n",
    "# Define a function to categorize 'Probe' and 'Non-Probe'\n",
    "def categorize_class(value):\n",
    "    probe_values = ['ipsweep', 'nmap', 'portsweep', 'satan']\n",
    "    if value.lower() in probe_values:\n",
    "        return 'Probe'\n",
    "    else:\n",
    "        return 'Non-Probe'\n",
    "\n",
    "\n",
    "# Apply the categorization function to the labels\n",
    "y = data.iloc[:, last_column_offset].apply(categorize_class)\n",
    "\n",
    "# Define column offsets for one-hot encoding\n",
    "categorical_offsets = [1, 2, 5]  # Assuming these are the offsets of 'protocol_type', 'service', and 'flag'\n",
    "# One-hot encode categorical features\n",
    "X = pd.get_dummies(X, columns=X.columns[categorical_offsets])\n",
    "\n",
    "# Split the data into training and testing sets (80% training, 20% testing)\n",
    "X_train, X_test, y_train, y_test = train_test_split(X, y, test_size=0.2, random_state=42)\n",
    "\n",
    "# Standardize the features using StandardScaler\n",
    "scaler = StandardScaler()\n",
    "X_train_scaled = scaler.fit_transform(X_train)\n",
    "X_test_scaled = scaler.transform(X_test)\n",
    "\n",
    "# Create a RandomUnderSampler instance\n",
    "under_sampler = RandomUnderSampler(sampling_strategy='auto', random_state=42)\n",
    "\n",
    "# Apply the fit_resample method to obtain the resampled training data\n",
    "X_resampled, y_resampled = under_sampler.fit_resample(X_train_scaled, y_train)\n",
    "\n",
    "# Now X_resampled and y_resampled contain the under-sampled data\n",
    "# Train your model on X_resampled and y_resampled\n",
    "\n",
    "# Example: Train a Logistic Regression model\n",
    "model = LogisticRegression()\n",
    "model.fit(X_resampled, y_resampled)\n",
    "\n",
    "# Make predictions on the original test set\n",
    "y_pred = model.predict(X_test_scaled)\n",
    "\n",
    "# Evaluate the model\n",
    "accuracy = accuracy_score(y_test, y_pred)\n",
    "classification_report_output = classification_report(y_test, y_pred)\n",
    "\n",
    "# Display the results\n",
    "print(f\"Accuracy: {accuracy:.2f}\")\n",
    "print(\"\\nClassification Report:\")\n",
    "print(classification_report_output)"
   ]
  },
  {
   "cell_type": "code",
   "outputs": [],
   "source": [],
   "metadata": {
    "collapsed": false
   },
   "id": "94b7fd5ee8f77768"
  }
 ],
 "metadata": {
  "kernelspec": {
   "display_name": "Python 3",
   "language": "python",
   "name": "python3"
  },
  "language_info": {
   "codemirror_mode": {
    "name": "ipython",
    "version": 2
   },
   "file_extension": ".py",
   "mimetype": "text/x-python",
   "name": "python",
   "nbconvert_exporter": "python",
   "pygments_lexer": "ipython2",
   "version": "2.7.6"
  }
 },
 "nbformat": 4,
 "nbformat_minor": 5
}

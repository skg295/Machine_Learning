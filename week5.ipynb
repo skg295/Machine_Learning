import pandas as pd
from sklearn.model_selection import train_test_split
from sklearn.tree import DecisionTreeClassifier
from sklearn.metrics import accuracy_score, classification_report

# Load the dataset (replace 'your_dataset.csv' with the actual file name or path)
# df = pd.read_csv('your_dataset.csv')

# Display the first few rows of the dataset to inspect its structure
data.head()

# Separate features (X) and target variable (y)
X = data.drop('URL_Type_obf_Type', axis=1)  # Features (exclude the target column)
y = data['URL_Type_obf_Type']  # Target variable

# Split the dataset into training and testing sets
X_train, X_test, y_train, y_test = train_test_split(X, y, test_size=0.2, random_state=42)

# Initialize the Decision Tree Classifier
clf = DecisionTreeClassifier(random_state=42)

# Train the classifier on the training data
clf.fit(X_train, y_train)

# Make predictions on the test set
y_pred = clf.predict(X_test)

# Evaluate the classifier's performance
accuracy = accuracy_score(y_test, y_pred)
classification_report_str = classification_report(y_test, y_pred)

# Print the accuracy and classification report
print(f"Accuracy: {accuracy:.2f}")
print("\nClassification Report:\n", classification_report_str)
